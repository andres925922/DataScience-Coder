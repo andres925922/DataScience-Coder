{
 "cells": [
  {
   "cell_type": "code",
   "execution_count": 20,
   "id": "fe4e2e50",
   "metadata": {},
   "outputs": [],
   "source": [
    "# Importar librerías requeridas\n",
    "import numpy as np\n",
    "import pandas as pd\n",
    "import statistics as stat\n",
    "\n",
    "import math\n"
   ]
  },
  {
   "cell_type": "markdown",
   "id": "6a1a223b",
   "metadata": {},
   "source": [
    "### Ejercicio nro 1\n",
    "\n",
    "Generar un array aleatorio de 100 elementos. Calcular la mediana, la moda y la media correspondiente. Con los resultados, ¿Que relación existe entre la media y la moda?."
   ]
  },
  {
   "cell_type": "code",
   "execution_count": 4,
   "id": "f8c0683b",
   "metadata": {},
   "outputs": [
    {
     "data": {
      "text/plain": [
       "array([24, 91, 33, 16, 63, 79, 83, 33, 10, 50, 83, 23, 14, 78, 88, 42,  1,\n",
       "       68, 77, 92, 36, 78, 93, 96, 33, 65, 36, 96, 17, 90, 91, 34, 55, 15,\n",
       "       15, 88, 38, 74, 88,  2,  0, 35, 54, 91, 98, 45, 52, 79, 88, 69, 14,\n",
       "       72, 72, 67, 86, 90, 20,  9, 63, 12, 42, 68, 85, 51, 94,  9,  9, 86,\n",
       "       87, 84, 14, 62, 56,  5, 61, 77, 46, 20, 56, 83, 21, 14, 52,  6, 56,\n",
       "       50,  7, 13,  3, 72, 22, 59, 26, 94, 85, 37, 60, 37,  0, 15])"
      ]
     },
     "execution_count": 4,
     "metadata": {},
     "output_type": "execute_result"
    }
   ],
   "source": [
    "ARRAY_ALEATORIO = np.random.randint(100, size=(100), dtype=\"i\")\n",
    "ARRAY_ALEATORIO"
   ]
  },
  {
   "cell_type": "code",
   "execution_count": 15,
   "id": "4f73183e",
   "metadata": {},
   "outputs": [
    {
     "name": "stdout",
     "output_type": "stream",
     "text": [
      "La media del array generado aleatoriamente es 51.28, mientras que la moda es 14 y finalmente la mediana 54.5\n"
     ]
    }
   ],
   "source": [
    "media = np.mean(ARRAY_ALEATORIO)\n",
    "mediana = np.median(ARRAY_ALEATORIO)\n",
    "moda = stat.mode(ARRAY_ALEATORIO)\n",
    "\n",
    "print(f\"La media del array generado aleatoriamente es {media}, mientras que la moda es {moda} y finalmente la mediana {mediana}\")\n"
   ]
  },
  {
   "cell_type": "markdown",
   "id": "8bf83626",
   "metadata": {},
   "source": [
    "### Ejercicio nro 2\n",
    "\n",
    "En este link se provee un archivo con los resultados de la Encuesta de Sueldos de Openqube (https://sueldos.openqube.io/encuesta-sueldos-2020.02/), en este caso de Febrero 2020. Calcular y comparar media y mediana de los sueldos netos."
   ]
  },
  {
   "cell_type": "code",
   "execution_count": 63,
   "id": "9ba5cd4d",
   "metadata": {},
   "outputs": [
    {
     "name": "stdout",
     "output_type": "stream",
     "text": [
      "Timestamp                                                                                             object\n",
      "Me identifico                                                                                         object\n",
      "Tengo                                                                                                  int64\n",
      "Estoy trabajando en                                                                                   object\n",
      "Dónde estás trabajando                                                                                object\n",
      "                                                                                                       ...  \n",
      "¿Cambió tu situación laboral a raíz de la pandemia?                                                   object\n",
      "¿Qué tanto sentís que te está apoyando tu empresa en esta situación?                                   int64\n",
      "¿Cómo se vio afectada tu empresa?                                                                     object\n",
      "¿Instauraron algún beneficio nuevo?                                                                   object\n",
      "¿Cuáles considerás que son las mejores empresas de IT para trabajar en este momento, en tu ciudad?    object\n",
      "Length: 81, dtype: object\n",
      "===============================================================\n",
      "object\n"
     ]
    }
   ],
   "source": [
    "# Leemos el archivo csv\n",
    "\n",
    "dataframe = pd.read_csv(\"./Salarios Openqube - 2020.02.csv\")\n",
    "# print(dataframe.columns)\n",
    "print(dataframe.dtypes)\n",
    "print(\"===============================================================\")\n",
    "print(dataframe[\"Salario mensual NETO (en tu moneda local)\"].dtype)\n",
    "\n"
   ]
  },
  {
   "cell_type": "code",
   "execution_count": 65,
   "id": "0bc07c6a",
   "metadata": {},
   "outputs": [
    {
     "name": "stdout",
     "output_type": "stream",
     "text": [
      "object\n",
      "float64\n"
     ]
    }
   ],
   "source": [
    "# cambiamos el tipo de la columna Salario Neto\n",
    "print(dataframe[\"Salario mensual NETO (en tu moneda local)\"].dtype)\n",
    "#\n",
    "## bool\n",
    "## int, int8, int16, int32 ......int64\n",
    "## float, float32, float64\n",
    "## |Sn\n",
    "## object -> Strin\n",
    "#\n",
    "\n",
    "# Eliminamos los datos que tienen errores con map.\n",
    "def verificar_valores_enteros(numero):\n",
    "    try:\n",
    "        return float(numero)\n",
    "    except:\n",
    "        return 0\n",
    "\n",
    "dataframe[\"Salario mensual NETO (en tu moneda local)\"] = dataframe[\"Salario mensual NETO (en tu moneda local)\"].map(lambda x: verificar_valores_enteros(x))\n",
    "index = dataframe[dataframe[\"Salario mensual NETO (en tu moneda local)\"] == 0].index\n",
    "dataframe.drop(index , inplace=True)\n",
    "\n",
    "print(dataframe[\"Salario mensual NETO (en tu moneda local)\"].dtype)\n",
    "\n",
    "# dataframe[\"Salario mensual NETO (en tu moneda local)\"].astype(\"float\")\n"
   ]
  },
  {
   "cell_type": "code",
   "execution_count": 61,
   "id": "eb939b01",
   "metadata": {},
   "outputs": [
    {
     "name": "stdout",
     "output_type": "stream",
     "text": [
      "===============================================================\n",
      "sueldo máximo 118192949302.0\n",
      "===============================================================\n",
      "19306004.37798064 76000.0\n"
     ]
    }
   ],
   "source": [
    "# Analizamos el sueldo máximo\n",
    "sueldo_maximo = dataframe[\"Salario mensual NETO (en tu moneda local)\"].max()\n",
    "print(\"===============================================================\")\n",
    "print(f\"sueldo máximo {sueldo_maximo}\")\n",
    "\n",
    "\n",
    "# Analizamos el sueldo promedio\n",
    "print(\"===============================================================\")\n",
    "media_salario_mensual = dataframe[\"Salario mensual NETO (en tu moneda local)\"].mean()\n",
    "mediana_salario_mensual = dataframe[\"Salario mensual NETO (en tu moneda local)\"].median()\n",
    "print(media_salario_mensual, mediana_salario_mensual)"
   ]
  }
 ],
 "metadata": {
  "celltoolbar": "Raw Cell Format",
  "kernelspec": {
   "display_name": "Python 3 (ipykernel)",
   "language": "python",
   "name": "python3"
  },
  "language_info": {
   "codemirror_mode": {
    "name": "ipython",
    "version": 3
   },
   "file_extension": ".py",
   "mimetype": "text/x-python",
   "name": "python",
   "nbconvert_exporter": "python",
   "pygments_lexer": "ipython3",
   "version": "3.10.6"
  }
 },
 "nbformat": 4,
 "nbformat_minor": 5
}
