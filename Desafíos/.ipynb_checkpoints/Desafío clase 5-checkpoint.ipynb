{
 "cells": [
  {
   "cell_type": "code",
   "execution_count": 16,
   "id": "e260e416",
   "metadata": {},
   "outputs": [],
   "source": [
    "# Importar librerías requeridas\n",
    "import numpy as np\n",
    "import pandas as pd\n",
    "import statistics as stat\n"
   ]
  },
  {
   "cell_type": "code",
   "execution_count": null,
   "id": "20910090",
   "metadata": {},
   "outputs": [],
   "source": []
  },
  {
   "cell_type": "markdown",
   "id": "1883bf05",
   "metadata": {},
   "source": [
    "### Ejercicio nro 1\n",
    "\n",
    "Generar un array aleatorio de 100 elementos. Calcular la mediana, la moda y la media correspondiente. Con los resultados, ¿Que relación existe entre la media y la moda?."
   ]
  },
  {
   "cell_type": "code",
   "execution_count": 4,
   "id": "4c9e9ba5",
   "metadata": {},
   "outputs": [
    {
     "data": {
      "text/plain": [
       "array([24, 91, 33, 16, 63, 79, 83, 33, 10, 50, 83, 23, 14, 78, 88, 42,  1,\n",
       "       68, 77, 92, 36, 78, 93, 96, 33, 65, 36, 96, 17, 90, 91, 34, 55, 15,\n",
       "       15, 88, 38, 74, 88,  2,  0, 35, 54, 91, 98, 45, 52, 79, 88, 69, 14,\n",
       "       72, 72, 67, 86, 90, 20,  9, 63, 12, 42, 68, 85, 51, 94,  9,  9, 86,\n",
       "       87, 84, 14, 62, 56,  5, 61, 77, 46, 20, 56, 83, 21, 14, 52,  6, 56,\n",
       "       50,  7, 13,  3, 72, 22, 59, 26, 94, 85, 37, 60, 37,  0, 15])"
      ]
     },
     "execution_count": 4,
     "metadata": {},
     "output_type": "execute_result"
    }
   ],
   "source": [
    "ARRAY_ALEATORIO = np.random.randint(100, size=(100), dtype=\"i\")\n",
    "ARRAY_ALEATORIO"
   ]
  },
  {
   "cell_type": "code",
   "execution_count": 15,
   "id": "37d17c56",
   "metadata": {},
   "outputs": [
    {
     "name": "stdout",
     "output_type": "stream",
     "text": [
      "La media del array generado aleatoriamente es 51.28, mientras que la moda es 14 y finalmente la mediana 54.5\n"
     ]
    }
   ],
   "source": [
    "media = np.mean(ARRAY_ALEATORIO)\n",
    "mediana = np.median(ARRAY_ALEATORIO)\n",
    "moda = stat.mode(ARRAY_ALEATORIO)\n",
    "\n",
    "print(f\"La media del array generado aleatoriamente es {media}, mientras que la moda es {moda} y finalmente la mediana {mediana}\")\n"
   ]
  },
  {
   "cell_type": "markdown",
   "id": "0af3e370",
   "metadata": {},
   "source": [
    "### Ejercicio nro 2\n",
    "\n",
    "En este link se provee un archivo con los resultados de la Encuesta de Sueldos de Openqube (https://sueldos.openqube.io/encuesta-sueldos-2020.02/), en este caso de Febrero 2020. Calcular y comparar media y mediana de los sueldos netos."
   ]
  }
 ],
 "metadata": {
  "celltoolbar": "Raw Cell Format",
  "kernelspec": {
   "display_name": "Python 3 (ipykernel)",
   "language": "python",
   "name": "python3"
  },
  "language_info": {
   "codemirror_mode": {
    "name": "ipython",
    "version": 3
   },
   "file_extension": ".py",
   "mimetype": "text/x-python",
   "name": "python",
   "nbconvert_exporter": "python",
   "pygments_lexer": "ipython3",
   "version": "3.10.6"
  }
 },
 "nbformat": 4,
 "nbformat_minor": 5
}
